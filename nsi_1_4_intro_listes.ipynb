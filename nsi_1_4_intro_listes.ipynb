{
 "cells": [
  {
   "cell_type": "markdown",
   "metadata": {},
   "source": [
    "[Commentaire 1]: <> (Cours sous licence CC SA BY NC, Frédéric Mandon 2015)\n",
    "\n",
    "# Les listes\n",
    "\n",
    "_Faites une copie avec la commande ci dessus \"File>Make a Copy...\", et renommez la en cliquant sur le titre (à côté de jupyter  TD2...), par exemple en rajoutant votre nom._\n",
    "\n",
    "Les listes sont utilisées en permanence en programmation. C'est un outil absolument fondamental, qui vous prendra un peu plus de temps à maitriser que les notions précédentes.  On dit \"listes\" en Python, on dit aussi \"tableaux\".\n",
    "Une liste est une suite de valeurs, séparées par des virgules, entre crochets. Les valeurs sont indicées (ou indexées) de 0 à _n_ - 1, où _n_ est la longueur de la liste. On accède à un élément de la liste par son indice (ou index)."
   ]
  },
  {
   "cell_type": "code",
   "execution_count": null,
   "metadata": {
    "collapsed": true
   },
   "outputs": [],
   "source": [
    "liste = [42,23,'oui',\"la réponse d\"]\n",
    "print (\"la liste comporte \",len(liste),\" éléments\")\n",
    "for i in range(4):       # parcours de la liste par ses indices\n",
    "    print(\"l'élément d'indice\",i,\"vaut\",liste[i])"
   ]
  },
  {
   "cell_type": "markdown",
   "metadata": {},
   "source": [
    "Dans l'exemple précédent, on constate que : _( compléter, appeler le professeur si nécessaire)_\n",
    "* pour trouver la longueur d'une liste on utilise la fonction...\n",
    "* le premier indice dans une liste est...\n",
    "* le dernier indice dans une liste est...\n",
    "* la fonction `len(liste)`...\n",
    "* l'instruction `liste[i]`...\n",
    "\n",
    "_Remarque_ : les éléments de la liste peuvent être de type différent. On évite cependant de mélanger les types dans une liste, d'autres types de variables sont plus efficaces pour cela, comme les dictionnaires que l'on verra ultérieurement."
   ]
  },
  {
   "cell_type": "markdown",
   "metadata": {},
   "source": [
    "Si l'on veut accéder à plusieurs éléments consécutifs de la liste, on utilise la syntaxe `[a:b]`, où a et b sont les bornes. Bien comprendre le fonctionnement sur les bornes `a` et `b`.  \n",
    "Testez les commandes ci-dessous. Commentez le programme afin de préciser l'effet de chaque instruction."
   ]
  },
  {
   "cell_type": "code",
   "execution_count": null,
   "metadata": {
    "collapsed": true
   },
   "outputs": [],
   "source": [
    "liste = [i for i in range(0,11)]     # une manière simple de créer une liste, dite construction par compréhension\n",
    "print(liste)\n",
    "print(liste[0])      # extraction de...\n",
    "print(liste[:])      # extraction de...\n",
    "print(liste[:3])     # extraction de...\n",
    "print(liste[3:])     # extraction de...\n",
    "print(liste[3:7])    # extraction de...\n",
    "print(liste[-1])     # extraction de...\n",
    "print(liste[-4:])     # extraction de..."
   ]
  },
  {
   "cell_type": "markdown",
   "metadata": {},
   "source": [
    "## Copie de listes\n",
    "Tester le programme suivant. Le résultat obtenu vous paraît-il normal ?"
   ]
  },
  {
   "cell_type": "code",
   "execution_count": null,
   "metadata": {
    "collapsed": true
   },
   "outputs": [],
   "source": [
    "a = [1,2,3,4]\n",
    "b = a        # on copie la liste a dans b\n",
    "print(\"la liste b est :\",b)\n",
    "a[0]=\"bonjour\"        # on modifie le premier element de a\n",
    "print(\"la liste b est :\",b)"
   ]
  },
  {
   "cell_type": "markdown",
   "metadata": {},
   "source": [
    "_Que s'est-il passé ?_  \n",
    "Une variable est stockée en mémoire à une adresse donnée (comme une adresse postale, sauf que dans un ordinateur c'est un en gros un numéro de ligne). Par exemple, on suppose que la variable `a` est un entier, et que la variable `b` est égale à `a`. Pour l'ordinateur, ça ne sera pas `a` mais \"adresse #FE240AC6\", ni `b` mais adresse #F000001. Si un programme veut changer la valeur de `a`, il va acceder à l'adresse #FE240AC6 et en modifier le contenu. L'adresse #F000001, soit la variable `b`, sera inchangée.  \n",
    "Si maintenant la variable `a` est une liste, c'est une suite de valeurs stockée à partir d'une adresse comme ci-dessus, toujours par exemple #FE240AC6. L'instruction `b = a` ne va pas copier la liste à partir d'une autre adresse, mais signifie que `b` pointe aussi sur #FE240AC6. Toute modification de la liste `a` entrainera aussi celle de la liste `b` ! Le commentaire dans le programme précédent `# on copie la liste a dans b` peut être modifié par `# on copie l'adresse de la liste a dans b`.   \n",
    "On utilise les méthodes d'extraction d'éléments d'une liste, que l'on a vu ci-dessus, pour les copier :"
   ]
  },
  {
   "cell_type": "code",
   "execution_count": null,
   "metadata": {
    "collapsed": true
   },
   "outputs": [],
   "source": [
    "a = [1,2,3,4]\n",
    "b = a[:]        # on copie la liste a dans b, première méthode\n",
    "print(\"Avant modification, la liste a est :\",a)\n",
    "print(\"Avant modification, la liste b est :\",b)\n",
    "print()\n",
    "a[0]=\"bonjour\"        # on modifie le premier element de a\n",
    "print(\"Après modification de a[0], la liste a est :\",a)\n",
    "print(\"Après modification de a[0], la liste b est :\",b)\n",
    "print()\n",
    "c = a.copy()        # on copie la liste a dans c, deuxième méthode\n",
    "print(\"Avant modification de a[1], la liste c est :\",c)\n",
    "print()\n",
    "a[1]=\"à tous\"        # on modifie le deuxième element de a\n",
    "print(\"Après modification de a[1], la liste a est :\",a)\n",
    "print(\"Après modification de a[1], la liste c est :\",c)"
   ]
  },
  {
   "cell_type": "markdown",
   "metadata": {},
   "source": [
    "_Remarque_ : pour vraiment être convaincus, je vous conseille de copier/coller le programme précédent ci-dessous, en remplaçant les lignes `b = a[:]` par ` b = a` et de même `c = a.copy()` par `c = a`."
   ]
  },
  {
   "cell_type": "code",
   "execution_count": null,
   "metadata": {
    "collapsed": true
   },
   "outputs": [],
   "source": []
  },
  {
   "cell_type": "markdown",
   "metadata": {},
   "source": [
    "## Création de listes et de tableaux\n",
    "### Première méthode : rentrer des éléments un par un\n",
    "Dans les exemples précédents, les listes étaient données dans le corps du programme. On peut aussi créer une liste en rentrant les éléments un par un.  \n",
    "* Soit on connait à l'avance la longueur de la liste, et on modifie les éléments un par un comme dans cet exemple qui crée une liste de nombres aléatoires (à conserver dans vos archives) :"
   ]
  },
  {
   "cell_type": "code",
   "execution_count": null,
   "metadata": {},
   "outputs": [],
   "source": [
    "from random import *\n",
    "\n",
    "\"\"\"\n",
    "Fonction de création d'un tableau de nombres entier aléatoires\n",
    "\n",
    "@param : un entier positif ou nul n\n",
    "@result : un tableau de longueur n, rempli aléatoirement d'entiers compris entre 1 et 50\n",
    "\"\"\"\n",
    "\n",
    "def tableauAlea(n):\n",
    "\n",
    "    tab = [0]*n        # creation d'un tableau vide de longueur n\n",
    "    for i in range(len(tab)):         # remplissage du tableau par des valeurs      \n",
    "        tab[i] = randrange(1,50)      # aléatoires entre 1 et 50\n",
    "    return(tab)\n",
    "\n",
    "print(tableauAlea(10))  # exemples\n",
    "print(tableauAlea(0))"
   ]
  },
  {
   "cell_type": "markdown",
   "metadata": {},
   "source": [
    "* Soit on ne connaît pas à l'avance le nombre d'éléments de la liste, on les ajoute alors un par un à l'aide la méthode `liste.append(element)`, qui rajoute à la fin de `liste` l'item `element`. Exemple ci-dessous, également à conserver."
   ]
  },
  {
   "cell_type": "code",
   "execution_count": null,
   "metadata": {
    "collapsed": true
   },
   "outputs": [],
   "source": [
    "liste = []      # creation d'une liste vide\n",
    "continuer = True\n",
    "while continuer:\n",
    "    elt = int(input(\"rentrer un entier non nul (0 pour arreter) :\"))\n",
    "    if elt == 0:\n",
    "        continuer = False\n",
    "    else:\n",
    "        liste.append(elt) \n",
    "print(liste)"
   ]
  },
  {
   "cell_type": "markdown",
   "metadata": {},
   "source": [
    "__Exercice (suite de Syracuse)__ : modifier le programme de création d'une liste aléatoire pour qu'il crée une liste de longueur 100 dont les éléments sont :\n",
    "* un nombre entier aléatoire entre 1 et 50 pour `liste[0]`\n",
    "* le nombre calculé à partir de l'élément précédent (d'index `i - 1`) de la liste suivant la règle:\n",
    "    * si l'élément précédent est impair, alors on le multiplie par 3 et on ajoute 1\n",
    "    * si l'élément précédent est pair, alors on le divise par 2\n",
    "\n",
    "_Il peut être nécessaire de faire une liste plus longue pour obtenir un résultat intéressant, suivant la valeur de  `liste[0]`_   \n",
    "\n",
    "Faire tourner le programme plusieurs fois, vous constaterez ce qui est un grand mystère des mathématiques de notre époque."
   ]
  },
  {
   "cell_type": "code",
   "execution_count": null,
   "metadata": {
    "collapsed": true
   },
   "outputs": [],
   "source": []
  },
  {
   "cell_type": "markdown",
   "metadata": {},
   "source": [
    "### Deuxième méthode : remplir la liste en entier directement\n",
    "La méthode ci-dessous : `liste = [i for i in range(0,11)]` est très pratique et rapide pour créer rapidement une liste de valeurs suivant ce que l'on appelle une suite arithmétique."
   ]
  },
  {
   "cell_type": "code",
   "execution_count": null,
   "metadata": {},
   "outputs": [],
   "source": [
    "liste = [i for i in range(0,11)]\n",
    "print(liste)"
   ]
  },
  {
   "cell_type": "markdown",
   "metadata": {},
   "source": [
    "__Exercice__ : créer avec cette méthode la liste des multiples de 3 compris entre -6 et 24, vérifier avec un affichage."
   ]
  },
  {
   "cell_type": "code",
   "execution_count": null,
   "metadata": {
    "collapsed": true
   },
   "outputs": [],
   "source": []
  },
  {
   "cell_type": "markdown",
   "metadata": {},
   "source": [
    "__Exercice__ : créer en une seule ligne de code une liste de 20 nombres aléatoires compris entre -10 et 100."
   ]
  },
  {
   "cell_type": "code",
   "execution_count": null,
   "metadata": {
    "collapsed": true
   },
   "outputs": [],
   "source": []
  },
  {
   "cell_type": "markdown",
   "metadata": {},
   "source": [
    "## Fonctions et méthodes de base sur les listes\n",
    "### Longueur et ajout d'un élément.\n",
    "La fonction `len(liste)` donne le nombre d'éléments d'une liste.  \n",
    "La méthode `liste.append(element)` rajoute un élément en fin de liste.\n",
    "_Remarque sur le vocabulaire_ :  \n",
    "* `len()` est une __fonction__, on doit donc affecter le résultat dans une variable : `n = len(liste)`;\n",
    "* `.append()` est une __méthode__. Elle modifie l'__objet__ donné avant le point. Il n'y a pas d'affectation à faire, l'instruction s'utilise seule. "
   ]
  },
  {
   "cell_type": "markdown",
   "metadata": {},
   "source": [
    "### D'autres méthodes et techniques utiles.\n",
    "De nombreuses méthodes existent sur les listes, citons par exemple:\n",
    "* `liste.sort()` trie la liste dans l'ordre croissant. Les éléments doivent être de nature comparable\n",
    "* `liste.reverse()` : inverse l’ordre des éléments.\n",
    "* `liste.index(élément_de_liste)` : renvoie l’indice dans la liste d’un élément donné.\n",
    "* `liste.remove(élément_de_liste)` : enlève un élément de la liste. Si l'élément est présent plusieurs fois, seule la première occurence sera retirée.\n",
    "* `liste.insert(index, élément_de_liste)` : ajoute un élément à la liste à l'index précisé.\n",
    "* `liste.min()` : donne le minimum d'une liste.\n",
    "* `liste.max()` : _compléter_\n",
    "* `liste1.extend(liste2)` : rajoute `liste2` à la fin de `liste1`. Il est équivalent de faire `liste1 = liste1 + liste 2`\n",
    "\n",
    "\n",
    "Tester ces méthodes dans la cellule ci-dessous\n",
    "\n",
    "__Remarque__ : dans la majeure partie des exercices en début d'année, l'utilisation de ces méthodes est interdite ; en effet elles suppriment la visée pédagogique desdits exercices."
   ]
  },
  {
   "cell_type": "code",
   "execution_count": null,
   "metadata": {},
   "outputs": [],
   "source": [
    "from random import *\n",
    "liste = [randint(1,50) for i in range(0,11)]\n",
    "print(liste)\n",
    "liste.sort()\n",
    "print(liste)"
   ]
  },
  {
   "cell_type": "markdown",
   "metadata": {},
   "source": [
    "## Complément : les chaines de caractères\n",
    "Un chaine de caractères est une liste.  \n",
    "__Exercice__ : dans une chaine (d'au moins 15 caractères) que vous vous donnez:\n",
    "1. Extraire la première lettre\n",
    "2. Extraire la sous-chaine allant de la 3<sup>ème</sup> à la 10<sup>ème</sup> lettre.\n",
    "3. Extraire la dernière lettre. L'instruction doit fonctionner quelque soit la longueur de la chaine, sans avoir à changer le code.\n",
    "4. Extraire les dix dernières lettres"
   ]
  },
  {
   "cell_type": "code",
   "execution_count": null,
   "metadata": {
    "collapsed": true
   },
   "outputs": [],
   "source": []
  },
  {
   "cell_type": "markdown",
   "metadata": {},
   "source": [
    "## Une première approche des tableaux et matrices\n",
    "Un tableau est en général considéré une liste de listes (de listes de listes... etc, autant que l'on veut). On rappelle qu'il y a ambiguïté, vu que les imprécisions de langage avec le python font que l'on confond tableau et liste. Une matrice est un tableau de listes de réels (ou de complexes), toutes les listes ayant la même longeur. OnUne matrice est dimension $a \\times b$ si elle a $a$ lignes et $b$ colonnes. \n",
    "Tester :"
   ]
  },
  {
   "cell_type": "code",
   "execution_count": null,
   "metadata": {
    "collapsed": true
   },
   "outputs": [],
   "source": [
    "tab = [[1,2,3],[4,5,6],[7,8,9],[10,11,12]]\n",
    "print(\"un affichage pas très beau :\")\n",
    "print(tab)\n",
    "print(\"un affichage plus lisible, pas parfait cependant :\")\n",
    "for i in range(4):\n",
    "    print (tab[i])"
   ]
  },
  {
   "cell_type": "markdown",
   "metadata": {},
   "source": [
    "Quelle est la dimension de la matrice crée ci-dessus ?\n",
    "\n",
    "_Remarque_ : on reviendra plus longuement sur les tableaux et matrices ultérieurement"
   ]
  },
  {
   "cell_type": "code",
   "execution_count": null,
   "metadata": {
    "collapsed": true
   },
   "outputs": [],
   "source": [
    "tab = ['a','b','c','d','e','f']\n",
    "print(\"la longueur de tab est :\",len(tab))\n",
    "tab.append(\"bonjour\")\n",
    "print(tab)"
   ]
  },
  {
   "cell_type": "markdown",
   "metadata": {},
   "source": [
    "#### Exercice\n",
    "En se basant sur l'exemple précédent, et sur la fonction de création d'une liste d'entier aléatoires, écrire une fonction qui crée une matrice de _n_ lignes de _p_ nombres aléatoires entre 12 et 45. _n_ et _p_ seront passés en paramètres."
   ]
  },
  {
   "cell_type": "code",
   "execution_count": null,
   "metadata": {
    "collapsed": true
   },
   "outputs": [],
   "source": []
  },
  {
   "cell_type": "markdown",
   "metadata": {},
   "source": [
    "<hr style=\"color:black; height:1px\" /> \n",
    "<div style=\"float:left;margin:0 10px 10px 0\" markdown=\"1\">\n",
    "[![Licence CC BY NC SA](https://licensebuttons.net/l/by-nc-sa/3.0/88x31.png \"licence Creative Commons CC BY SA\")](http://creativecommons.org/licenses/by-nc-sa/3.0/fr/)</div>\n",
    "[**Frederic Mandon**](mailto:frederic.mandon@ac-montpellier.fr), Lycée Jean Jaurès - Saint Clément de Rivière - France (2015-2019)"
   ]
  }
 ],
 "metadata": {
  "kernelspec": {
   "display_name": "Python 3",
   "language": "python",
   "name": "python3"
  },
  "language_info": {
   "codemirror_mode": {
    "name": "ipython",
    "version": 3
   },
   "file_extension": ".py",
   "mimetype": "text/x-python",
   "name": "python",
   "nbconvert_exporter": "python",
   "pygments_lexer": "ipython3",
   "version": "3.4.5"
  }
 },
 "nbformat": 4,
 "nbformat_minor": 1
}
