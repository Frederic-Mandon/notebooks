{
 "cells": [
  {
   "cell_type": "markdown",
   "metadata": {},
   "source": [
    "#  Introduction à la programmation objet\n",
    "\n",
    "La programmation objet correspond à une manière peut-être plus naturelle pour les humains, de concevoir le fonctionnement d'un programme. En ce moment où vous lisez le notebook, plusieurs \"objets\" sont en action. Un écran qui affiche le notebook ; des yeux qui reçoivent la lumière ; une première partie du cerveau, le cortex visuel, qui transforme cette lumière en images ; et enfin une deuxième partie du cerveau, le cortex cérébral, qui transforme cette image en pensée. La communication se fait ici à sens unique, de l'écran vers la pensée.  \n",
    "Dans un deuxième temps, vous allez répondre aux questions posées plus loin. Il y aura interaction dans les deux sens, en rajoutant un autre objet, le clavier.  \n",
    "On est donc en présence d'objet ayant à la fois des caractéritiques, et des actions, qui leurs sont propres. Le clavier a comme caractéristiques ses touches, la manière dont il est connecté à l'ordinateur. Et ses actions peuvent être de communication vers l'ordinateur : envoyer le code d'une touche ; ou bien en provenance de l'ordinateur : configuration en azerty ou qwerty. Remarquez que l'objet clavier est ici défini de manière générale, on ne précise pas sa marque, son agencement de touches etc. De la même manière que l'on dit \"j'ai pris la voiture\" et non pas \"j'ai pris la 2CV orange de 1964\"  \n",
    "Les objets interagissent entre eux par la biais d'une __interface__  \n",
    "\n",
    "## Objectif belote\n",
    "Nous allons utiliser ce principe d'\"objets\" pour jouer à la belote, ou à d'autres jeux de cartes. La belote est un jeu, qui utilise un paquet de cartes, constitué de... cartes. Le premier objet que l'on va créer est donc une carte \"générique\", comme une \"voiture\" générique. \n",
    "La __classe__ \"carte a :\n",
    "* des __attributs/composants__ (les caractérisques):\n",
    "    - sa couleur (coeur, pique, carreau, trèfle)\n",
    "    - sa hauteur\n",
    "    - sa valeur, qui n'est pas forcément la même que sa hauteur\n",
    "    - _Remarque_ : les attributs sont __privés__, c'est-à-dire qu'un objet extérieur qui veut y accéder ne peut pas les modifier directement. Il est obligé de passer par les méthodes de la classe. C'est le principe d'__encapsulation__ des données. les attributs sont protégés d'une modification directe par un objet extérieur.\n",
    "* des __méthodes__ (les actions):\n",
    "    - création/construction de la carte avec couleur, hauteur et valeur. Cette méthode particulière est le __constructeur__\n",
    "    - commmuniquer ses attributs (méthodes __get__). Ces méthodes sont des __accesseurs__\n",
    "    - changer sa valeur (méthode __set__). Cette méthode est un __modifieur__\n",
    "    - _Remarque_ : on ne change pas la couleur ni la hauteur (sauf si on triche)\n",
    "    - _Remarque_ : les méthodes get et set sont publiques. Ce sont celles qui seront utilisées par les objets extérieurs pour interagir avec la carte.\n",
    "\n",
    "Quand on crée une carte, on crée une __instance__ de la classe carte. Pour cela, on utilise une méthode spéciale, le __constructeur__ de la classe. En Python cette méthode est `__init__`. Dans certains meuporgs, ce vocabulaire d'instance est utilisé pour désigner une zone créée individuellement pour chaque groupe de joueurs. Les différents groupes explorent la même zone mais ne s'y croisent pas : ils ne sont pas dans la même instance. Une instance d'une calsse partage avec les autres instances les mêmes méthodes et la même structure, mais pas les mêmes valeurs des attributs.  \n",
    "\n",
    "_Remarques_ : \n",
    "* Une classe est une nouvelle structure de données, que l'on a construit. Cette structure a un comportement défini par ses méthodes. Une classe peut être vue comme un nouveau type.\n",
    "* La programmation objet permet de découper plus facilement le travail à l'intérieur d'une équipe, chaque collaborateur pouvant programmer une classe indépendamment des autres. Un programmeur utilisant une classe créee par un de ses collègues n'a pas besoin de savoir \"comment\" ça marche, juste \"ce qu'il peut faire\" avec les objets de cette classe.\n",
    "\n",
    "### Première ébauche\n",
    "Cette première version donne une classe dans laquelle les attributs sont publics. C'est-à-dire que ce n'est pas ce que l'on veut !"
   ]
  },
  {
   "cell_type": "code",
   "execution_count": 1,
   "metadata": {},
   "outputs": [],
   "source": [
    "class Carte:\n",
    "    \"\"\"\n",
    "    Carte d'un jeu\n",
    "    \"\"\"\n",
    "    def __init__(self,couleur,hauteur,valeur = 0):        #par défaut la valeur est à 0, on peut en passer une\n",
    "                                                          #en paramètre ou pas\n",
    "        self.couleur = couleur\n",
    "        self.hauteur = hauteur\n",
    "        self.valeur = valeur\n",
    "        "
   ]
  },
  {
   "cell_type": "markdown",
   "metadata": {},
   "source": [
    "Les instructions suivantes permettent de :\n",
    "* lire les spécifications de la classe\n",
    "* créer une carte\n",
    "* récupérer un attribut\n",
    "* modifier un attribut"
   ]
  },
  {
   "cell_type": "code",
   "execution_count": 2,
   "metadata": {},
   "outputs": [
    {
     "name": "stdout",
     "output_type": "stream",
     "text": [
      "roi carreau\n",
      "\n",
      "roi fenetre\n"
     ]
    }
   ],
   "source": [
    "Carte.__doc__     # lecture des spécifications\n",
    "roiCarreau = Carte('carreau','roi',13)    # création d'une carte\n",
    "print(roiCarreau.hauteur, roiCarreau.couleur)     # lecture de la hauteur et de la couleur de l'objet roiCarreau\n",
    "print()\n",
    "roiCarreau.couleur = 'fenetre'   # modification de la hauteur par un individu mal intentionné XD\n",
    "print(roiCarreau.hauteur, roiCarreau.couleur)     # et voilà le résultat !"
   ]
  },
  {
   "cell_type": "markdown",
   "metadata": {},
   "source": [
    "### Deuxième ébauche\n",
    "Rendons les attributs privés. Il suffit de les écrire avec `__`devant"
   ]
  },
  {
   "cell_type": "code",
   "execution_count": 3,
   "metadata": {},
   "outputs": [],
   "source": [
    "class Carte:\n",
    "    \"\"\"\n",
    "    Carte d'un jeu\n",
    "    \"\"\"\n",
    "    def __init__(self,couleur,hauteur,valeur = 0):\n",
    "        self.__couleur = couleur\n",
    "        self.__hauteur = hauteur\n",
    "        self.__valeur = valeur"
   ]
  },
  {
   "cell_type": "markdown",
   "metadata": {},
   "source": [
    "Puis récupérons la hauteur :"
   ]
  },
  {
   "cell_type": "code",
   "execution_count": null,
   "metadata": {},
   "outputs": [],
   "source": []
  },
  {
   "cell_type": "markdown",
   "metadata": {},
   "source": [
    "Que se passe-t-il ?\n",
    "\n",
    "### troisième ébauche : getters et setters\n",
    "L'avantage des attributs privés, c'est qu'ils ne sont modifiables que par l'utilisation de méthodes publiques. Ces méthodes, puisqu'elles sont publiques, sont accessibles par n'importe quel objet. Mais leur définition étant interne à la classe, elles sont cohérentes avec celle-ci."
   ]
  },
  {
   "cell_type": "code",
   "execution_count": 13,
   "metadata": {},
   "outputs": [
    {
     "name": "stdout",
     "output_type": "stream",
     "text": [
      "carreau\n",
      "fenetre\n"
     ]
    }
   ],
   "source": [
    "class Carte:\n",
    "    \"\"\"\n",
    "    Carte d'un jeu\n",
    "    \"\"\"\n",
    "    def __init__(self,couleur,hauteur,valeur = 0):\n",
    "        self.__couleur = couleur\n",
    "        self.__hauteur = hauteur\n",
    "        self.__valeur = valeur\n",
    "    \n",
    "    # méthodes getters/setters\n",
    "    def getCouleur(self):\n",
    "        return self.__couleur\n",
    "    def getHauteur(self):\n",
    "        return self.__hauteur\n",
    "    def getValeur(self):\n",
    "        return self.__valeur\n",
    "    \n",
    "    def setCouleur(self,nouvCouleur):\n",
    "        self.__couleur = nouvCouleur\n",
    "        return True\n",
    "    def setHauteur(self,nouvHauteur):\n",
    "        self.__hauteur = nouvHauteur\n",
    "        return True\n",
    "    def setValeur(self,nouvValeur):\n",
    "        self.__valeur = nouvValeur\n",
    "        return True\n",
    "    \n",
    "roiCarreau = Carte('carreau','roi',13)\n",
    "print(roiCarreau.getCouleur())      # l'appel d'une méthode doit vous rappeler \"liste.sort()\"\n",
    "roiCarreau.setCouleur('fenetre')\n",
    "print(roiCarreau.getCouleur())"
   ]
  },
  {
   "cell_type": "markdown",
   "metadata": {},
   "source": [
    "_Remarque_ : si vous faites du Python plus avancé dans le supérieur, vous verrez qu'il y a des méthodes plus pythonesques que les getters et setters ; ce sont les propriétés et les décorateurs. Nous n'en ferons pas usage en terminale.\n",
    "\n",
    "### La classe Carte \"propre\"\n",
    "Reprendre la classe précédente. Le nettoyer et le compléteren tenant compte des remarques suivantes/précédentes :\n",
    "* on ne change pas la couleur ni la hauteur (sauf si on triche)\n",
    "* le but est de jouer à la belote ; la valeur d'une carte est comprise entre 0 et 20 points."
   ]
  },
  {
   "cell_type": "code",
   "execution_count": null,
   "metadata": {},
   "outputs": [],
   "source": []
  }
 ],
 "metadata": {
  "kernelspec": {
   "display_name": "Python 3",
   "language": "python",
   "name": "python3"
  },
  "language_info": {
   "codemirror_mode": {
    "name": "ipython",
    "version": 3
   },
   "file_extension": ".py",
   "mimetype": "text/x-python",
   "name": "python",
   "nbconvert_exporter": "python",
   "pygments_lexer": "ipython3",
   "version": "3.6.4"
  }
 },
 "nbformat": 4,
 "nbformat_minor": 2
}
